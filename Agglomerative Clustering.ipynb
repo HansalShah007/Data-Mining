{
 "cells": [
  {
   "cell_type": "markdown",
   "metadata": {
    "id": "U7IPxPxGHPoL"
   },
   "source": [
    "## **Agglomerative Clustering**\n",
    "### **Author:** Hansal Shah \n"
   ]
  },
  {
   "cell_type": "markdown",
   "metadata": {
    "id": "PqVmDq60RyZ1"
   },
   "source": [
    "# **Importing required libraries**"
   ]
  },
  {
   "cell_type": "code",
   "execution_count": null,
   "metadata": {
    "id": "VvgVNqyGR28G"
   },
   "outputs": [],
   "source": [
    "from sklearn.datasets import load_iris\n",
    "from scipy.cluster.hierarchy import dendrogram, linkage\n",
    "import pandas as pd\n",
    "import numpy as np\n",
    "import math\n",
    "import matplotlib.pyplot as plt"
   ]
  },
  {
   "cell_type": "markdown",
   "metadata": {
    "id": "vyjK_DVY9dps"
   },
   "source": [
    "# **Loading the dataset**"
   ]
  },
  {
   "cell_type": "code",
   "execution_count": null,
   "metadata": {
    "id": "jUNHIHQD9apr"
   },
   "outputs": [],
   "source": [
    "usarrests = pd.read_csv('/content/drive/MyDrive/USArrests.csv')"
   ]
  },
  {
   "cell_type": "code",
   "execution_count": null,
   "metadata": {
    "colab": {
     "base_uri": "https://localhost:8080/"
    },
    "id": "6LCoSTEt9gL7",
    "outputId": "60ab4fd0-2b4a-4f90-fe89-b3d26c803cdc"
   },
   "outputs": [
    {
     "name": "stdout",
     "output_type": "stream",
     "text": [
      "<class 'pandas.core.frame.DataFrame'>\n",
      "RangeIndex: 50 entries, 0 to 49\n",
      "Data columns (total 5 columns):\n",
      " #   Column      Non-Null Count  Dtype  \n",
      "---  ------      --------------  -----  \n",
      " 0   Unnamed: 0  50 non-null     object \n",
      " 1   Murder      50 non-null     float64\n",
      " 2   Assault     50 non-null     int64  \n",
      " 3   UrbanPop    50 non-null     int64  \n",
      " 4   Rape        50 non-null     float64\n",
      "dtypes: float64(2), int64(2), object(1)\n",
      "memory usage: 2.1+ KB\n"
     ]
    }
   ],
   "source": [
    "usarrests.info()"
   ]
  },
  {
   "cell_type": "markdown",
   "metadata": {
    "id": "_MfSt-aLEg4H"
   },
   "source": [
    "**Hence before feeding the dataset to the model, we need to remove the column containing object datatype.**\n"
   ]
  },
  {
   "cell_type": "code",
   "execution_count": null,
   "metadata": {
    "id": "LrVpJH1tEw6x"
   },
   "outputs": [],
   "source": [
    "usarrests.drop(['Unnamed: 0'],axis=1,inplace=True)"
   ]
  },
  {
   "cell_type": "markdown",
   "metadata": {
    "id": "MdC4c_li9oTV"
   },
   "source": [
    "# **Agglomerative hierarchical clustering algorithm from scratch**"
   ]
  },
  {
   "cell_type": "code",
   "execution_count": null,
   "metadata": {
    "id": "hxuIhgJf9iUm"
   },
   "outputs": [],
   "source": [
    "class AgglomerativeClustering:\n",
    "\n",
    "  def __init__(self, distance_metric='min'):\n",
    "    self.dataset = None\n",
    "    self.distance_metric=distance_metric\n",
    "    self.linkages = []\n",
    "    self.new_clusters = []\n",
    "\n",
    "    \n",
    "  def fit(self, X):\n",
    "    self.dataset = np.array(X)\n",
    "    # clusters = [list(X[i]) for i in range(len(X))] \n",
    "    progressions = [[i] for i in range(len(X))]\n",
    "    index = 1\n",
    "    \n",
    "    while len(progressions)>1:\n",
    "\n",
    "      # Generating the distance matrix\n",
    "      dist_matrix = self.generate_distance_matrix(progressions)\n",
    "\n",
    "      # Finding the indexes of the clusters that are closest to each other\n",
    "      min_index = np.unravel_index(np.argmin(dist_matrix), dist_matrix.shape)\n",
    "\n",
    "      # Generating the new cluster\n",
    "      new_cluster = []\n",
    "      for sample in progressions[min_index[0]]:\n",
    "        new_cluster.append(sample)\n",
    "      for sample in progressions[min_index[1]]:\n",
    "        new_cluster.append(sample)    \n",
    "      \n",
    "      self.new_clusters.append(new_cluster)\n",
    "\n",
    "      # Generating the linkage array \n",
    "      temp_linkage = []\n",
    "      if len(progressions[min_index[0]])==1:\n",
    "        temp_linkage.append(progressions[min_index[0]][0])\n",
    "      else:\n",
    "        temp_linkage.append(self.new_clusters.index(progressions[min_index[0]])+\n",
    "                            self.dataset.shape[0])\n",
    "        \n",
    "      if len(progressions[min_index[1]])==1:\n",
    "        temp_linkage.append(progressions[min_index[1]][0])\n",
    "      else:\n",
    "        temp_linkage.append(self.new_clusters.index(progressions[min_index[1]])+\n",
    "                            self.dataset.shape[0])\n",
    "        \n",
    "      temp_linkage.append(np.min(dist_matrix))\n",
    "      temp_linkage.append(len(new_cluster))\n",
    "\n",
    "      # Appending the new linkage in the global linkage\n",
    "      self.linkages.append(temp_linkage)\n",
    "\n",
    "      #Removing the combined clusters and inserting the new one\n",
    "      progression1 = progressions[min_index[0]]\n",
    "      progression2 = progressions[min_index[1]]\n",
    "      progressions.remove(progression1)\n",
    "      progressions.remove(progression2)\n",
    "      progressions.append(new_cluster)\n",
    "      index+=1\n",
    "\n",
    "  def generate_distance_matrix(self, sample_clusters):\n",
    "    dist_matrix = np.zeros((len(sample_clusters),len(sample_clusters)))\n",
    "\n",
    "    for i in range(len(sample_clusters)):\n",
    "      for j in range(i+1):\n",
    "        if i!=j:\n",
    "          dist = None\n",
    "\n",
    "          if self.distance_metric=='min':\n",
    "            dist = self.min_distance(sample_clusters[i], sample_clusters[j])\n",
    "          elif self.distance_metric=='max':\n",
    "            dist = self.max_distance(sample_clusters[i], sample_clusters[j])\n",
    "          elif self.distance_metric=='mean':\n",
    "            dist = self.mean_distance(sample_clusters[i], sample_clusters[j])\n",
    "          elif self.distance_metric=='average':\n",
    "            dist = self.average_distance(sample_clusters[i], sample_clusters[j])\n",
    "\n",
    "          dist_matrix[i][j] = dist\n",
    "          dist_matrix[j][i] = dist \n",
    "\n",
    "        else:\n",
    "          dist_matrix[i][j] = math.inf\n",
    "    \n",
    "    return dist_matrix\n",
    "\n",
    "  def min_distance(self, cluster1, cluster2):\n",
    "    sample_distances = []\n",
    "    for sample1 in cluster1:\n",
    "      for sample2 in cluster2:\n",
    "        sample_distances.append(self.euclidean_distance(sample1, sample2))\n",
    "    return min(sample_distances)\n",
    "\n",
    "  def max_distance(self, cluster1, cluster2):\n",
    "    sample_distances = []\n",
    "    for sample1 in cluster1:\n",
    "      for sample2 in cluster2:\n",
    "        sample_distances.append(self.euclidean_distance(sample1, sample2))\n",
    "    return max(sample_distances)\n",
    "  \n",
    "  def mean_distance(self, cluster1, cluster2):\n",
    "      c1 = (np.sum(self.dataset[cluster1],axis=0))/len(cluster1)\n",
    "      c2 = (np.sum(self.dataset[cluster2],axis=0))/len(cluster2)\n",
    "      return np.sqrt(np.sum((c1-c2)**2))\n",
    "\n",
    "  def average_distance(self,cluster1, cluster2):\n",
    "    sample_distances = []\n",
    "    for sample1 in cluster1:\n",
    "      for sample2 in cluster2:\n",
    "        sample_distances.append(self.euclidean_distance(sample1, sample2))\n",
    "    return np.sum(np.array(sample_distances))/(len(cluster1)*len(cluster2))\n",
    "  \n",
    "  def euclidean_distance(self, sample1, sample2):\n",
    "    return np.sqrt(np.sum((self.dataset[sample1]-self.dataset[sample2])**2))\n",
    "\n",
    "  def show_dendrogram(self):\n",
    "    fig = plt.figure(figsize=(12, 8)) \n",
    "    dn = dendrogram(np.array(self.linkages))\n",
    "    plt.show()"
   ]
  },
  {
   "cell_type": "markdown",
   "metadata": {
    "id": "90NRO_UEPdh1"
   },
   "source": [
    "# **Fitting the model according to the user input**"
   ]
  },
  {
   "cell_type": "code",
   "execution_count": null,
   "metadata": {
    "colab": {
     "base_uri": "https://localhost:8080/",
     "height": 2853
    },
    "id": "NdClErLDPlmF",
    "outputId": "40de8c14-362d-49b5-e11d-32a84e976547"
   },
   "outputs": [
    {
     "name": "stdout",
     "output_type": "stream",
     "text": [
      "\n",
      "Distance metrics for agglomerative clustering: \n",
      "1. Minimmum distance\n",
      "2. Maximum distance\n",
      "3. Mean distance\n",
      "4. Average distance\n",
      "\n",
      "Enter your choice number: 1\n",
      "\n",
      " You have chosen the minimum distance measure\n",
      "\n",
      "The dendrogram after agglomerative clustering\n"
     ]
    },
    {
     "data": {
      "image/png": "[encoded data removed]",
      "text/plain": [
       "<Figure size 864x576 with 1 Axes>"
      ]
     },
     "metadata": {
      "needs_background": "light"
     },
     "output_type": "display_data"
    },
    {
     "name": "stdout",
     "output_type": "stream",
     "text": [
      "\n",
      "Do you want to continue? (Y/N): y\n",
      "\n",
      "Distance metrics for agglomerative clustering: \n",
      "1. Minimmum distance\n",
      "2. Maximum distance\n",
      "3. Mean distance\n",
      "4. Average distance\n",
      "\n",
      "Enter your choice number: 2\n",
      "\n",
      " You have chosen the maximum distance measure\n",
      "\n",
      "The dendrogram after agglomerative clustering\n"
     ]
    },
    {
     "data": {
      "image/png": "[encoded data removed]",
      "text/plain": [
       "<Figure size 864x576 with 1 Axes>"
      ]
     },
     "metadata": {
      "needs_background": "light"
     },
     "output_type": "display_data"
    },
    {
     "name": "stdout",
     "output_type": "stream",
     "text": [
      "\n",
      "Do you want to continue? (Y/N): y\n",
      "\n",
      "Distance metrics for agglomerative clustering: \n",
      "1. Minimmum distance\n",
      "2. Maximum distance\n",
      "3. Mean distance\n",
      "4. Average distance\n",
      "\n",
      "Enter your choice number: 3\n",
      "\n",
      " You have chosen the mean distance measure\n",
      "\n",
      "The dendrogram after agglomerative clustering\n"
     ]
    },
    {
     "data": {
      "image/png": "[encoded data removed]",
      "text/plain": [
       "<Figure size 864x576 with 1 Axes>"
      ]
     },
     "metadata": {
      "needs_background": "light"
     },
     "output_type": "display_data"
    },
    {
     "name": "stdout",
     "output_type": "stream",
     "text": [
      "\n",
      "Do you want to continue? (Y/N): y\n",
      "\n",
      "Distance metrics for agglomerative clustering: \n",
      "1. Minimmum distance\n",
      "2. Maximum distance\n",
      "3. Mean distance\n",
      "4. Average distance\n",
      "\n",
      "Enter your choice number: 4\n",
      "\n",
      " You have chosen the average distance measure\n",
      "\n",
      "The dendrogram after agglomerative clustering\n"
     ]
    },
    {
     "data": {
      "image/png": "[encoded data removed]",
      "text/plain": [
       "<Figure size 864x576 with 1 Axes>"
      ]
     },
     "metadata": {
      "needs_background": "light"
     },
     "output_type": "display_data"
    },
    {
     "name": "stdout",
     "output_type": "stream",
     "text": [
      "\n",
      "Do you want to continue? (Y/N): n\n"
     ]
    }
   ],
   "source": [
    "while True:\n",
    "  print('\\nDistance metrics for agglomerative clustering: ')\n",
    "  print('1. Minimmum distance')\n",
    "  print('2. Maximum distance')\n",
    "  print('3. Mean distance')\n",
    "  print('4. Average distance')\n",
    "  metric_choice = int(input('\\nEnter your choice number: '))\n",
    "  model = AgglomerativeClustering()\n",
    "\n",
    "  if metric_choice==1:\n",
    "    model.distance_metric='min'\n",
    "    print('\\n You have chosen the minimum distance measure')\n",
    "  elif metric_choice==2:\n",
    "    model.distance_metric='max'\n",
    "    print('\\n You have chosen the maximum distance measure')\n",
    "  elif metric_choice==3:\n",
    "    model.distance_metric='mean'\n",
    "    print('\\n You have chosen the mean distance measure')\n",
    "  elif metric_choice==4:\n",
    "    model.distance_metric='average'\n",
    "    print('\\n You have chosen the average distance measure')\n",
    "  else:\n",
    "    print('\\nPlease enter a valid choice number!')\n",
    "\n",
    "  model.fit(usarrests)\n",
    "  print('\\nThe dendrogram after agglomerative clustering')\n",
    "  model.show_dendrogram()\n",
    "\n",
    "  temp = input('\\nDo you want to continue? (Y/N): ')\n",
    "  if temp.lower()=='n':\n",
    "    break\n",
    "  elif temp.lower()!='y':\n",
    "    print('\\nNot a valid input!')\n",
    "  \n",
    "  \n"
   ]
  },
  {
   "cell_type": "markdown",
   "metadata": {
    "id": "l1YR8PLU2JK_"
   },
   "source": [
    "# **Verification using the built in library functions**"
   ]
  },
  {
   "cell_type": "markdown",
   "metadata": {
    "id": "S2Dgf0O32avk"
   },
   "source": [
    "---\n",
    "### **1.   Minimum distance measure**\n",
    "\n",
    "\n",
    "\n"
   ]
  },
  {
   "cell_type": "code",
   "execution_count": null,
   "metadata": {
    "colab": {
     "base_uri": "https://localhost:8080/",
     "height": 483
    },
    "id": "xGnfVDbJlnwL",
    "outputId": "7b7d701b-78c5-4481-86e9-20b538ea2025"
   },
   "outputs": [
    {
     "data": {
      "image/png": "[encoded data removed]",
      "text/plain": [
       "<Figure size 864x576 with 1 Axes>"
      ]
     },
     "metadata": {
      "needs_background": "light"
     },
     "output_type": "display_data"
    }
   ],
   "source": [
    "Z = linkage(np.array(usarrests), 'single')\n",
    "fig = plt.figure(figsize=(12, 8))\n",
    "dn = dendrogram(Z)"
   ]
  },
  {
   "cell_type": "markdown",
   "metadata": {
    "id": "ATgQnTCE2pYV"
   },
   "source": [
    "### **2.   Maximum distance measure**\n",
    "\n",
    "\n",
    "\n"
   ]
  },
  {
   "cell_type": "code",
   "execution_count": null,
   "metadata": {
    "colab": {
     "base_uri": "https://localhost:8080/",
     "height": 483
    },
    "id": "am-lmHPT2pYW",
    "outputId": "0e957ae1-56d9-48ad-c1e5-e589eac7916b"
   },
   "outputs": [
    {
     "data": {
      "image/png": "[encoded data removed]",
      "text/plain": [
       "<Figure size 864x576 with 1 Axes>"
      ]
     },
     "metadata": {
      "needs_background": "light"
     },
     "output_type": "display_data"
    }
   ],
   "source": [
    "Z = linkage(np.array(usarrests), 'complete')\n",
    "fig = plt.figure(figsize=(12, 8))\n",
    "dn = dendrogram(Z)"
   ]
  },
  {
   "cell_type": "markdown",
   "metadata": {
    "id": "dZyo3EXj22q-"
   },
   "source": [
    "### **3. Average distance measure**"
   ]
  },
  {
   "cell_type": "code",
   "execution_count": null,
   "metadata": {
    "colab": {
     "base_uri": "https://localhost:8080/",
     "height": 483
    },
    "id": "njlnBkZ926_H",
    "outputId": "a2d5aa51-2e51-4b4c-e40e-ca0c7bf45be4"
   },
   "outputs": [
    {
     "data": {
      "image/png": "[encoded data removed]",
      "text/plain": [
       "<Figure size 864x576 with 1 Axes>"
      ]
     },
     "metadata": {
      "needs_background": "light"
     },
     "output_type": "display_data"
    }
   ],
   "source": [
    "Z = linkage(np.array(usarrests), 'average')\n",
    "fig = plt.figure(figsize=(12, 8))\n",
    "dn = dendrogram(Z)"
   ]
  },
  {
   "cell_type": "markdown",
   "metadata": {
    "id": "PSAePhC03PwN"
   },
   "source": [
    "# **Conclusion**\n",
    "---\n",
    "\n",
    "**The dendrograms created using the model created from scratch and built in scipy library functions are the same. Hence, the scratch code is working fine.**\n"
   ]
  }
 ],
 "metadata": {
  "colab": {
   "collapsed_sections": [
    "U7IPxPxGHPoL"
   ],
   "name": "19BCP043_Assgn_10_agglomerative.ipynb",
   "provenance": []
  },
  "kernelspec": {
   "display_name": "Python 3",
   "language": "python",
   "name": "python3"
  },
  "language_info": {
   "codemirror_mode": {
    "name": "ipython",
    "version": 3
   },
   "file_extension": ".py",
   "mimetype": "text/x-python",
   "name": "python",
   "nbconvert_exporter": "python",
   "pygments_lexer": "ipython3",
   "version": "3.8.3"
  }
 },
 "nbformat": 4,
 "nbformat_minor": 1
}
