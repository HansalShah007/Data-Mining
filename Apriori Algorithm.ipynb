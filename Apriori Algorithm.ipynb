{
 "cells": [
  {
   "cell_type": "markdown",
   "metadata": {
    "id": "Fn9JJQIhKY_-"
   },
   "source": [
    "## **Apriori Algorithm** \n",
    "### **Author:** Hansal Shah \n"
   ]
  },
  {
   "cell_type": "markdown",
   "metadata": {
    "id": "R4ffKYiVUg_D"
   },
   "source": [
    "# **Initializing the dataset**"
   ]
  },
  {
   "cell_type": "code",
   "execution_count": null,
   "metadata": {
    "colab": {
     "base_uri": "https://localhost:8080/"
    },
    "id": "aPq1OM2qJvHy",
    "outputId": "7b4d7c19-2f36-4444-bf0e-4fd9695e2ede"
   },
   "outputs": [
    {
     "data": {
      "text/plain": [
       "['I1', 'I2', 'I3', 'I4', 'I5']"
      ]
     },
     "execution_count": 129,
     "metadata": {},
     "output_type": "execute_result"
    }
   ],
   "source": [
    "transactions = {'T100':['I1','I2','I5'], 'T200':['I2','I4'], 'T300':['I2','I3'], \n",
    "                'T400':['I1','I2','I4'], 'T500':['I1','I3'], 'T600':['I2','I3'], \n",
    "                'T700':['I1','I3'], 'T800':['I1','I2','I3','I5'], \n",
    "                'T900':['I1','I2','I3']}\n",
    "\n",
    "# finding unique items\n",
    "unique = []\n",
    "\n",
    "for transaction in transactions:\n",
    "  for item in transactions[transaction]:\n",
    "    unique.append(item)\n",
    "\n",
    "unique = list(set(unique))\n",
    "unique.sort()\n",
    "unique"
   ]
  },
  {
   "cell_type": "markdown",
   "metadata": {
    "id": "RwXhrK30Uov5"
   },
   "source": [
    "# **Helper Functions**"
   ]
  },
  {
   "cell_type": "code",
   "execution_count": null,
   "metadata": {
    "id": "GcHSYgc7U0Ql"
   },
   "outputs": [],
   "source": [
    "def count_frequency(itemset, transactions):\n",
    "  count = 0\n",
    "  for transaction in transactions:\n",
    "    if set(itemset).issubset(set(transactions[transaction])):\n",
    "      count+=1\n",
    "  return count\n",
    "\n",
    "def join(set1, set2, order):\n",
    "  set1.sort(key=lambda x: order.index(x))\n",
    "  set2.sort(key=lambda x: order.index(x))\n",
    "\n",
    "  for i in range(len(set1)-1):\n",
    "    if set1[i] != set2[i]:\n",
    "      return []\n",
    "\n",
    "  if order.index(set1[-1]) < order.index(set2[-1]):\n",
    "    return set1 + [set2[-1]]\n",
    "\n",
    "def join_sets(itemsets, order):\n",
    "  new_candidates = []\n",
    "  for i in range(len(itemsets)):\n",
    "    for j in range(i+1, len(itemsets)):\n",
    "      new_cand = join(itemsets[i], itemsets[j], order)\n",
    "      if len(new_cand) > 0:\n",
    "        new_candidates.append(new_cand)\n",
    "  return new_candidates\n",
    "\n",
    "def get_frequent_itemsets(itemsets, transactions, min_sup, prev_discarded):\n",
    "  lnew = []\n",
    "  l_support_values = []\n",
    "  c_support_values = []\n",
    "  new_discarded = []\n",
    "  num_transactions = len(transactions)\n",
    "  num_prev_discarded = len(prev_discarded.keys())\n",
    "\n",
    "  for itemset in itemsets:\n",
    "    count_c = count_frequency(itemset, transactions)\n",
    "    c_support_values.append(count_c)\n",
    "\n",
    "    #checking if they have a discarded subset\n",
    "    contains_discarded_subset = False\n",
    "    if num_prev_discarded > 0:\n",
    "      for discarded_itemset in prev_discarded[num_prev_discarded]:\n",
    "        if set(discarded_itemset).issubset(set(itemset)):\n",
    "          contains_discarded_subset = True\n",
    "          break\n",
    "\n",
    "    if not contains_discarded_subset:\n",
    "      count_l = count_frequency(itemset, transactions)\n",
    "      if count_l >= min_sup:\n",
    "        lnew.append(itemset)\n",
    "        l_support_values.append(count_l)\n",
    "      else:\n",
    "        new_discarded.append(itemset)\n",
    "    \n",
    "  return lnew, l_support_values, c_support_values, new_discarded\n",
    "\n",
    "\n",
    "def table(frequent_itemsets, support_values):\n",
    "  print('Itemset  |  Frequency')\n",
    "  for i in range(len(frequent_itemsets)):\n",
    "    print('{}   |   {}'.format(frequent_itemsets[i], support_values[i]))\n",
    "  print('\\n')\n",
    "\n",
    "def print_result(c, l, support_count_C, support_count_L):\n",
    "  for i in range(1,len(c)+1):\n",
    "    print(\"For k={}\".format(i))\n",
    "    print('C{}'.format(i))\n",
    "    table(c[i], support_count_C[i])\n",
    "    print('L{}'.format(i))\n",
    "    table(l[i], support_count_L[i])\n",
    "    print('\\n')"
   ]
  },
  {
   "cell_type": "markdown",
   "metadata": {
    "id": "y068yA4bU6ly"
   },
   "source": [
    "# **Initializing the candiadate and frequent itemsets**"
   ]
  },
  {
   "cell_type": "code",
   "execution_count": null,
   "metadata": {
    "colab": {
     "base_uri": "https://localhost:8080/"
    },
    "id": "ZMxJOJCtU7vj",
    "outputId": "6b2ce3ff-c0de-4791-8590-0ef1c62f37cb"
   },
   "outputs": [
    {
     "name": "stdout",
     "output_type": "stream",
     "text": [
      "Enter the value of minimum support: 2\n",
      "The minimum support value is: 2\n"
     ]
    }
   ],
   "source": [
    "k = 1 \n",
    "c = {k: [[item] for item in unique]}\n",
    "discarded_itemsets = {k: []}\n",
    "l = {}\n",
    "support_count_L = {}\n",
    "support_count_C = {}\n",
    "\n",
    "# Taking the input for the minimum support value\n",
    "min_sup = int(input(\"Enter the value of minimum support: \"))\n",
    "print('The minimum support value is: {}'.format(min_sup))"
   ]
  },
  {
   "cell_type": "markdown",
   "metadata": {
    "id": "dnZRHEUJKXJ8"
   },
   "source": [
    "### **Generating the first candidate and frequent itemsets**"
   ]
  },
  {
   "cell_type": "code",
   "execution_count": null,
   "metadata": {
    "id": "IW7nAaNKVBzN"
   },
   "outputs": [],
   "source": [
    "frequent_itemsets, l_support_values, c_support_values, new_discarded = get_frequent_itemsets(c[k], transactions, min_sup, discarded_itemsets)\n",
    "discarded_itemsets.update({k: new_discarded})\n",
    "l.update({k: frequent_itemsets})\n",
    "support_count_L.update({k: l_support_values})\n",
    "support_count_C.update({k: c_support_values})"
   ]
  },
  {
   "cell_type": "markdown",
   "metadata": {
    "id": "ppfamhgFVI9k"
   },
   "source": [
    "### **Producing candidate and frequent itemsets till terminating condition**"
   ]
  },
  {
   "cell_type": "code",
   "execution_count": null,
   "metadata": {
    "id": "433ojr8uVFsd"
   },
   "outputs": [],
   "source": [
    "k+=1\n",
    "\n",
    "while True:\n",
    "  c[k] = join_sets(l[k-1], unique)\n",
    "  frequent_itemsets, l_support_values, c_support_values, new_discarded = get_frequent_itemsets(c[k], transactions, min_sup, discarded_itemsets)\n",
    "  discarded_itemsets.update({k: new_discarded})\n",
    "  l.update({k: frequent_itemsets})\n",
    "  support_count_L.update({k: l_support_values})\n",
    "  support_count_C.update({k: c_support_values})\n",
    "\n",
    "  if(len(l[k])==0):\n",
    "    break\n",
    "  \n",
    "  k+=1"
   ]
  },
  {
   "cell_type": "markdown",
   "metadata": {
    "id": "C1yoCPcnVOsi"
   },
   "source": [
    "# **Results**"
   ]
  },
  {
   "cell_type": "code",
   "execution_count": null,
   "metadata": {
    "colab": {
     "base_uri": "https://localhost:8080/"
    },
    "id": "xUXdjPoTVLX1",
    "outputId": "48732e4a-94b1-4c20-c8f2-309d34d0a443"
   },
   "outputs": [
    {
     "name": "stdout",
     "output_type": "stream",
     "text": [
      "For k=1\n",
      "C1\n",
      "Itemset  |  Frequency\n",
      "['I1']   |   6\n",
      "['I2']   |   7\n",
      "['I3']   |   6\n",
      "['I4']   |   2\n",
      "['I5']   |   2\n",
      "\n",
      "\n",
      "L1\n",
      "Itemset  |  Frequency\n",
      "['I1']   |   6\n",
      "['I2']   |   7\n",
      "['I3']   |   6\n",
      "['I4']   |   2\n",
      "['I5']   |   2\n",
      "\n",
      "\n",
      "\n",
      "\n",
      "For k=2\n",
      "C2\n",
      "Itemset  |  Frequency\n",
      "['I1', 'I2']   |   4\n",
      "['I1', 'I3']   |   4\n",
      "['I1', 'I4']   |   1\n",
      "['I1', 'I5']   |   2\n",
      "['I2', 'I3']   |   4\n",
      "['I2', 'I4']   |   2\n",
      "['I2', 'I5']   |   2\n",
      "['I3', 'I4']   |   0\n",
      "['I3', 'I5']   |   1\n",
      "['I4', 'I5']   |   0\n",
      "\n",
      "\n",
      "L2\n",
      "Itemset  |  Frequency\n",
      "['I1', 'I2']   |   4\n",
      "['I1', 'I3']   |   4\n",
      "['I1', 'I5']   |   2\n",
      "['I2', 'I3']   |   4\n",
      "['I2', 'I4']   |   2\n",
      "['I2', 'I5']   |   2\n",
      "\n",
      "\n",
      "\n",
      "\n",
      "For k=3\n",
      "C3\n",
      "Itemset  |  Frequency\n",
      "['I1', 'I2', 'I3']   |   2\n",
      "['I1', 'I2', 'I5']   |   2\n",
      "['I1', 'I3', 'I5']   |   1\n",
      "['I2', 'I3', 'I4']   |   0\n",
      "['I2', 'I3', 'I5']   |   1\n",
      "['I2', 'I4', 'I5']   |   0\n",
      "\n",
      "\n",
      "L3\n",
      "Itemset  |  Frequency\n",
      "['I1', 'I2', 'I3']   |   2\n",
      "['I1', 'I2', 'I5']   |   2\n",
      "\n",
      "\n",
      "\n",
      "\n",
      "For k=4\n",
      "C4\n",
      "Itemset  |  Frequency\n",
      "['I1', 'I2', 'I3', 'I5']   |   1\n",
      "\n",
      "\n",
      "L4\n",
      "Itemset  |  Frequency\n",
      "\n",
      "\n",
      "\n",
      "\n"
     ]
    }
   ],
   "source": [
    "print_result(c,l,support_count_C, support_count_L)"
   ]
  },
  {
   "cell_type": "markdown",
   "metadata": {
    "id": "CH2xJ4v8avEt"
   },
   "source": [
    "# **Generating Association Rules**"
   ]
  },
  {
   "cell_type": "markdown",
   "metadata": {
    "id": "s4q7QzDLcTl6"
   },
   "source": [
    "### **Helper functions**"
   ]
  },
  {
   "cell_type": "code",
   "execution_count": null,
   "metadata": {
    "id": "tOVwRyv6VQ44"
   },
   "outputs": [],
   "source": [
    "powerset = []\n",
    "\n",
    "def generate_powerset(subset, index, itemset):\n",
    "\n",
    "  if(index==len(itemset)):\n",
    "    powerset.append(subset.copy())\n",
    "    return\n",
    "\n",
    "  #excluding the element\n",
    "  generate_powerset(subset, index+1, itemset)\n",
    "\n",
    "  #including the element\n",
    "  subset.append(itemset[index])\n",
    "  generate_powerset(subset, index+1, itemset)\n",
    "  subset.pop()\n",
    "\n",
    "\n",
    "def generate_association_rules(l):\n",
    "  possible_association_rules = {}\n",
    "  final_association_rules = {}\n",
    "  for i in range(2,len(l)):\n",
    "    for itemset in l[i]:\n",
    "      powerset.clear()\n",
    "      generate_powerset([], 0, itemset)\n",
    "      powerset.pop(0) \n",
    "      powerset.pop(-1)\n",
    "\n",
    "      for s in powerset:\n",
    "        itemset_s = list(set(itemset)-set(s))\n",
    "        count_s = count_frequency(s, transactions)\n",
    "        count_itemset = count_frequency(itemset, transactions)\n",
    "\n",
    "        rule = '{}=>{}'.format(set(s),set(itemset_s))\n",
    "        confidence = (count_itemset/count_s)\n",
    "\n",
    "        possible_association_rules[rule]=confidence\n",
    "\n",
    "        if confidence>=min_conf:\n",
    "          final_association_rules[rule] = confidence\n",
    "\n",
    "  return possible_association_rules, final_association_rules\n",
    "\n",
    "def print_rules_values(frequent_itemsets, confidence_values):\n",
    "  print('Rule  |  Confidence')\n",
    "  for i in range(len(frequent_itemsets)):\n",
    "    print('{}   |   {}'.format(frequent_itemsets[i], confidence_values[i]))\n",
    "  print('\\n')\n",
    "\n",
    "def print_rules_percentage(frequent_itemsets, confidence_values):\n",
    "  print('Rule  |  Confidence(%)')\n",
    "  for i in range(len(frequent_itemsets)):\n",
    "    print('{}   |   {}'.format(frequent_itemsets[i], confidence_values[i]*100))\n",
    "  print('\\n')"
   ]
  },
  {
   "cell_type": "markdown",
   "metadata": {
    "id": "VC-JMIeaDPY_"
   },
   "source": [
    "### **Initializing the minimum confidence**"
   ]
  },
  {
   "cell_type": "code",
   "execution_count": null,
   "metadata": {
    "colab": {
     "base_uri": "https://localhost:8080/"
    },
    "id": "Mxi7wrIzgp0d",
    "outputId": "204cfcf0-3c8c-4a72-8ad7-72b07743da34"
   },
   "outputs": [
    {
     "name": "stdout",
     "output_type": "stream",
     "text": [
      "Enter the value of minimum confidence: 0.6\n"
     ]
    }
   ],
   "source": [
    "min_conf = float(input('Enter the value of minimum confidence: '))\n"
   ]
  },
  {
   "cell_type": "markdown",
   "metadata": {
    "id": "1frsoqEuDaIL"
   },
   "source": [
    "### **Generating the association rules**"
   ]
  },
  {
   "cell_type": "code",
   "execution_count": null,
   "metadata": {
    "id": "KNEvg-ndgwsu"
   },
   "outputs": [],
   "source": [
    "possible_association_rules, final_association_rules = generate_association_rules(l)"
   ]
  },
  {
   "cell_type": "markdown",
   "metadata": {
    "id": "FYD1VIa3Dkxr"
   },
   "source": [
    "### **Printing the frequent itemsets and their support count**"
   ]
  },
  {
   "cell_type": "code",
   "execution_count": null,
   "metadata": {
    "colab": {
     "base_uri": "https://localhost:8080/"
    },
    "id": "TTcQF9wVDrxp",
    "outputId": "c77ff5b3-861e-4b9c-d074-025c5119fc5b"
   },
   "outputs": [
    {
     "name": "stdout",
     "output_type": "stream",
     "text": [
      "Final frequent itemsets: \n",
      "\n",
      "For k=1\n",
      "L1\n",
      "Itemset  |  Frequency\n",
      "['I1']   |   6\n",
      "['I2']   |   7\n",
      "['I3']   |   6\n",
      "['I4']   |   2\n",
      "['I5']   |   2\n",
      "\n",
      "\n",
      "For k=2\n",
      "L2\n",
      "Itemset  |  Frequency\n",
      "['I1', 'I2']   |   4\n",
      "['I1', 'I3']   |   4\n",
      "['I1', 'I5']   |   2\n",
      "['I2', 'I3']   |   4\n",
      "['I2', 'I4']   |   2\n",
      "['I2', 'I5']   |   2\n",
      "\n",
      "\n",
      "For k=3\n",
      "L3\n",
      "Itemset  |  Frequency\n",
      "['I1', 'I2', 'I3']   |   2\n",
      "['I1', 'I2', 'I5']   |   2\n",
      "\n",
      "\n"
     ]
    }
   ],
   "source": [
    "print(\"Final frequent itemsets: \\n\")\n",
    "\n",
    "for i in range(1,len(l)+1):\n",
    "    if len(l[i])!=0:\n",
    "      print(\"For k={}\".format(i))\n",
    "      print('L{}'.format(i))\n",
    "      table(l[i], support_count_L[i])"
   ]
  },
  {
   "cell_type": "markdown",
   "metadata": {
    "id": "z_3H2sbaVD0m"
   },
   "source": [
    "### **Printing the minimum confidence**"
   ]
  },
  {
   "cell_type": "code",
   "execution_count": null,
   "metadata": {
    "colab": {
     "base_uri": "https://localhost:8080/"
    },
    "id": "q1eCU2cDVIs6",
    "outputId": "3ed72aaa-13c7-481b-a3a9-6cf31540d42a"
   },
   "outputs": [
    {
     "name": "stdout",
     "output_type": "stream",
     "text": [
      "The value of minimum confidence is: 0.6\n",
      "The value of minimum support is: 2\n"
     ]
    }
   ],
   "source": [
    "print(\"The value of minimum confidence is: {}\".format(min_conf))\n",
    "print(\"The value of minimum support is: {}\".format(min_sup))"
   ]
  },
  {
   "cell_type": "markdown",
   "metadata": {
    "id": "z2ICT_csRkW7"
   },
   "source": [
    "### **Printing the tentative set of rules and their confidence**"
   ]
  },
  {
   "cell_type": "code",
   "execution_count": null,
   "metadata": {
    "colab": {
     "base_uri": "https://localhost:8080/"
    },
    "id": "QSg6Z9nNhFjA",
    "outputId": "ccac8584-1927-475d-ac5f-5c75c63ef524"
   },
   "outputs": [
    {
     "name": "stdout",
     "output_type": "stream",
     "text": [
      "Rule  |  Confidence\n",
      "{'I2'}=>{'I1'}   |   0.5714285714285714\n",
      "{'I1'}=>{'I2'}   |   0.6666666666666666\n",
      "{'I3'}=>{'I1'}   |   0.6666666666666666\n",
      "{'I1'}=>{'I3'}   |   0.6666666666666666\n",
      "{'I5'}=>{'I1'}   |   1.0\n",
      "{'I1'}=>{'I5'}   |   0.3333333333333333\n",
      "{'I3'}=>{'I2'}   |   0.6666666666666666\n",
      "{'I2'}=>{'I3'}   |   0.5714285714285714\n",
      "{'I4'}=>{'I2'}   |   1.0\n",
      "{'I2'}=>{'I4'}   |   0.2857142857142857\n",
      "{'I5'}=>{'I2'}   |   1.0\n",
      "{'I2'}=>{'I5'}   |   0.2857142857142857\n",
      "{'I3'}=>{'I2', 'I1'}   |   0.3333333333333333\n",
      "{'I2'}=>{'I3', 'I1'}   |   0.2857142857142857\n",
      "{'I3', 'I2'}=>{'I1'}   |   0.5\n",
      "{'I1'}=>{'I3', 'I2'}   |   0.3333333333333333\n",
      "{'I3', 'I1'}=>{'I2'}   |   0.5\n",
      "{'I2', 'I1'}=>{'I3'}   |   0.5\n",
      "{'I5'}=>{'I2', 'I1'}   |   1.0\n",
      "{'I2'}=>{'I5', 'I1'}   |   0.2857142857142857\n",
      "{'I2', 'I5'}=>{'I1'}   |   1.0\n",
      "{'I1'}=>{'I2', 'I5'}   |   0.3333333333333333\n",
      "{'I5', 'I1'}=>{'I2'}   |   1.0\n",
      "{'I2', 'I1'}=>{'I5'}   |   0.5\n",
      "\n",
      "\n"
     ]
    }
   ],
   "source": [
    "print_rules_values(list(possible_association_rules.keys()), list(possible_association_rules.values()))"
   ]
  },
  {
   "cell_type": "markdown",
   "metadata": {
    "id": "r60E37W5b9SK"
   },
   "source": [
    "### **Printing the final set of rules and their (confidence %)**"
   ]
  },
  {
   "cell_type": "code",
   "execution_count": null,
   "metadata": {
    "colab": {
     "base_uri": "https://localhost:8080/"
    },
    "id": "gQQWA73HUsJp",
    "outputId": "4e352fa3-b60c-46e2-95dd-8802e0949b5c"
   },
   "outputs": [
    {
     "name": "stdout",
     "output_type": "stream",
     "text": [
      "Rule  |  Confidence(%)\n",
      "{'I1'}=>{'I2'}   |   66.66666666666666\n",
      "{'I3'}=>{'I1'}   |   66.66666666666666\n",
      "{'I1'}=>{'I3'}   |   66.66666666666666\n",
      "{'I5'}=>{'I1'}   |   100.0\n",
      "{'I3'}=>{'I2'}   |   66.66666666666666\n",
      "{'I4'}=>{'I2'}   |   100.0\n",
      "{'I5'}=>{'I2'}   |   100.0\n",
      "{'I5'}=>{'I2', 'I1'}   |   100.0\n",
      "{'I2', 'I5'}=>{'I1'}   |   100.0\n",
      "{'I5', 'I1'}=>{'I2'}   |   100.0\n",
      "\n",
      "\n"
     ]
    }
   ],
   "source": [
    "print_rules_percentage(list(final_association_rules.keys()), list(final_association_rules.values()))"
   ]
  }
 ],
 "metadata": {
  "colab": {
   "collapsed_sections": [],
   "name": "19BCP043_Assgn_6_Apriori_Algorithm_2.ipynb",
   "provenance": []
  },
  "kernelspec": {
   "display_name": "Python 3",
   "language": "python",
   "name": "python3"
  },
  "language_info": {
   "codemirror_mode": {
    "name": "ipython",
    "version": 3
   },
   "file_extension": ".py",
   "mimetype": "text/x-python",
   "name": "python",
   "nbconvert_exporter": "python",
   "pygments_lexer": "ipython3",
   "version": "3.8.3"
  }
 },
 "nbformat": 4,
 "nbformat_minor": 1
}
