{
 "cells": [
  {
   "cell_type": "markdown",
   "metadata": {
    "id": "nUqLwH1R9CP3"
   },
   "source": [
    "## **Decision Tree** \n",
    "### **Author:** Hansal Shah "
   ]
  },
  {
   "cell_type": "markdown",
   "metadata": {
    "id": "q-3MSHXD_bO6"
   },
   "source": [
    "# **Loading the dataset and importing the required libraries**\n",
    "\n",
    "\n",
    "---\n"
   ]
  },
  {
   "cell_type": "code",
   "execution_count": null,
   "metadata": {
    "id": "2WEuGXJg63kM"
   },
   "outputs": [],
   "source": [
    "from sklearn.datasets import load_iris\n",
    "import pandas as pd\n",
    "import numpy as np\n",
    "from sklearn.model_selection import train_test_split \n",
    "from sklearn.metrics import accuracy_score"
   ]
  },
  {
   "cell_type": "markdown",
   "metadata": {
    "id": "LmTlO1r4_wow"
   },
   "source": [
    "# **Building the Decision Tree Regressor from scratch**\n",
    "\n",
    "---"
   ]
  },
  {
   "cell_type": "markdown",
   "metadata": {
    "id": "hoSfmwnN_-Lg"
   },
   "source": [
    "**Defining the nodes of a tree**"
   ]
  },
  {
   "cell_type": "code",
   "execution_count": null,
   "metadata": {
    "id": "83Shyx5L_ljC"
   },
   "outputs": [],
   "source": [
    "class Node():\n",
    "  def __init__(self, feature_index=None, threshold=None, \n",
    "               left_node=None, right_node=None, info_gain=None, value=None):\n",
    "\n",
    "    #The properties it will have if it is a decision node\n",
    "    self.feature_index = feature_index\n",
    "    self.threshold=threshold\n",
    "    self.left_node = left_node\n",
    "    self.right_node = right_node\n",
    "    self.info_gain = info_gain\n",
    "\n",
    "    #The properties that it will have if it is a leaf node\n",
    "    self.value=value"
   ]
  },
  {
   "cell_type": "markdown",
   "metadata": {
    "id": "gfU0_TJ8CNxf"
   },
   "source": [
    "**Defining the Decision Tree Regressor**"
   ]
  },
  {
   "cell_type": "code",
   "execution_count": null,
   "metadata": {
    "id": "8IRspxQ6CM80"
   },
   "outputs": [],
   "source": [
    "class DecisionTreeRegressor():\n",
    "  def __init__(self, min_samples_split=2, max_depth=2, mode=\"entropy\"):\n",
    "    #Defining the root of the tree\n",
    "    self.root = None\n",
    "    #Defining the required parameters of the tree\n",
    "    self.min_samples_split = min_samples_split\n",
    "    self.max_depth = max_depth\n",
    "    self.mode = mode\n",
    "\n",
    "  def fit(self, X, y):\n",
    "    dataset = np.concatenate((X,y),axis=1)\n",
    "    self.root = self.build_tree(dataset)\n",
    "\n",
    "  def predict(self, X):\n",
    "    return [self.sample_prediction(x, self.root) for x in X]\n",
    "\n",
    "  def sample_prediction(self, x, tree):\n",
    "    if tree.value!=None: return tree.value\n",
    "    feature_val = x[tree.feature_index]\n",
    "    if feature_val<=tree.threshold:\n",
    "      return self.sample_prediction(x, tree.left_node)\n",
    "    else:\n",
    "      return self.sample_prediction(x, tree.right_node)\n",
    "\n",
    "  def build_tree(self, dataset, current_depth=0):\n",
    "    #Splitting the dataset into target and non-target features\n",
    "    X, y = dataset[:,:-1], dataset[:,-1]\n",
    "    samples, features = np.shape(X)\n",
    "\n",
    "    #Chcking whether the leaf node condition has been reached or not\n",
    "    if samples>=self.min_samples_split and current_depth<=self.max_depth:\n",
    "      \n",
    "      #Calculating the best split for the current dataset\n",
    "      best_split = self.get_best_split(dataset, samples, features)\n",
    "      #Checking for a positive information gain \n",
    "      if best_split['info_gain'] > 0:\n",
    "        #Creating a left and right child nodes for the current node\n",
    "        left_subtree=self.build_tree(best_split['left_subtree'],current_depth+1)\n",
    "        right_subtree=self.build_tree(best_split['right_subtree'],current_depth+1)\n",
    "        return Node(best_split['feature_index'], best_split['threshold'],\n",
    "                    left_subtree, right_subtree,\n",
    "                    best_split['info_gain'])\n",
    "      \n",
    "    leaf_value = self.calc_leaf_value(y)\n",
    "    return Node(value = leaf_value)\n",
    "\n",
    "  def calc_leaf_value(self, y):\n",
    "    y = list(y)\n",
    "    return max(y,key=y.count)\n",
    "\n",
    "  def get_best_split(self, dataset, samples, features):\n",
    "    #Defining the best split and the maximum info gain\n",
    "    best_split = {}\n",
    "    max_info_gain = -float(\"inf\")\n",
    "\n",
    "    #Searching through all features and thresholds for maximum info gain\n",
    "    for feature_index in range(features):\n",
    "      values = dataset[:,feature_index]\n",
    "      possible_thresholds = np.unique(values)\n",
    "\n",
    "      for threshold in possible_thresholds:\n",
    "        #Splitting the dataset at this point\n",
    "        dataset_left,dataset_right=self.split(dataset, feature_index, threshold)\n",
    "        if len(dataset_left)>0 and len(dataset_right)>0:\n",
    "          #Calculating the information gain for this split\n",
    "          y,y_left,y_right=dataset[:,-1],dataset_left[:,-1],dataset_right[:,-1]\n",
    "          current_info_gain = self.information_gain(y, y_left, y_right)\n",
    "         \n",
    "          #Updating the gain if required\n",
    "          if current_info_gain>max_info_gain:\n",
    "            best_split['feature_index'] = feature_index\n",
    "            best_split['threshold'] = threshold\n",
    "            best_split['left_subtree'] = dataset_left \n",
    "            best_split['right_subtree'] = dataset_right \n",
    "            best_split['info_gain'] = current_info_gain \n",
    "            max_info_gain = current_info_gain\n",
    "\n",
    "    return best_split    \n",
    "        \n",
    "  def information_gain(self, parent, left_child, right_child):\n",
    "    weight_left = len(left_child)/len(parent)\n",
    "    weight_right = len(right_child)/len(parent)\n",
    "\n",
    "    if self.mode==\"gini\":\n",
    "      return (self.gini_index(parent) - \n",
    "              ((weight_left*self.gini_index(left_child))+\n",
    "               (weight_right*self.gini_index(right_child))))\n",
    "    else:\n",
    "      return (self.entropy(parent) - \n",
    "              ((weight_left*self.entropy(left_child))+\n",
    "               (weight_right*self.entropy(right_child))))\n",
    "    \n",
    "  def gini_index(self, y):\n",
    "    types = np.unique(y)\n",
    "    gini = 0\n",
    "    for type in types:\n",
    "      prob_type = len(y[y==type])/len(y)\n",
    "      gini+= prob_type**2\n",
    "    return (1-gini)\n",
    "\n",
    "  def entropy(self, y):\n",
    "    types = np.unique(y)\n",
    "    entropy = 0\n",
    "    for type in types:\n",
    "      prob_type = len(y[y==type])/len(y)\n",
    "      entropy += -prob_type*np.log2(prob_type)\n",
    "    return entropy\n",
    "\n",
    "  def split(self, dataset, feature_index, threshold):\n",
    "    left = np.array([row for row in dataset if row[feature_index]<=threshold])\n",
    "    right = np.array([row for row in dataset if row[feature_index]>threshold])\n",
    "    return left, right "
   ]
  },
  {
   "cell_type": "markdown",
   "metadata": {
    "id": "7IDTLIiDUV0a"
   },
   "source": [
    "# **Making predictions on Iris dataset**\n",
    "\n",
    "---\n",
    "\n"
   ]
  },
  {
   "cell_type": "markdown",
   "metadata": {
    "id": "CPLC81uaUzmN"
   },
   "source": [
    "**Loading the dataset**"
   ]
  },
  {
   "cell_type": "code",
   "execution_count": null,
   "metadata": {
    "id": "KP5gYV0_DgEL"
   },
   "outputs": [],
   "source": [
    "iris = load_iris()\n",
    "data = pd.DataFrame(iris.data, columns=iris.feature_names)\n",
    "target = pd.DataFrame(iris.target)"
   ]
  },
  {
   "cell_type": "code",
   "execution_count": null,
   "metadata": {
    "colab": {
     "base_uri": "https://localhost:8080/"
    },
    "id": "Ump4Ym4ZYlSY",
    "outputId": "e5f24690-e357-4c7c-f259-4356477e9352"
   },
   "outputs": [
    {
     "data": {
      "text/plain": [
       "(150, 4)"
      ]
     },
     "execution_count": 242,
     "metadata": {
      "tags": []
     },
     "output_type": "execute_result"
    }
   ],
   "source": [
    "data.shape"
   ]
  },
  {
   "cell_type": "markdown",
   "metadata": {
    "id": "qgkI8LiPU27e"
   },
   "source": [
    "**Splitting it into traiing and testing datasets**"
   ]
  },
  {
   "cell_type": "code",
   "execution_count": null,
   "metadata": {
    "id": "oKe__p_LUmuH"
   },
   "outputs": [],
   "source": [
    "X_train, X_test, y_train, y_test = train_test_split(data, target, test_size=0.2, random_state=9)"
   ]
  },
  {
   "cell_type": "code",
   "execution_count": null,
   "metadata": {
    "colab": {
     "base_uri": "https://localhost:8080/",
     "height": 204
    },
    "id": "lSChWYKNVVBP",
    "outputId": "b2564e0b-07f7-480c-8d48-8ac811ba3739"
   },
   "outputs": [
    {
     "data": {
      "text/html": [
       "<div>\n",
       "<style scoped>\n",
       "    .dataframe tbody tr th:only-of-type {\n",
       "        vertical-align: middle;\n",
       "    }\n",
       "\n",
       "    .dataframe tbody tr th {\n",
       "        vertical-align: top;\n",
       "    }\n",
       "\n",
       "    .dataframe thead th {\n",
       "        text-align: right;\n",
       "    }\n",
       "</style>\n",
       "<table border=\"1\" class=\"dataframe\">\n",
       "  <thead>\n",
       "    <tr style=\"text-align: right;\">\n",
       "      <th></th>\n",
       "      <th>sepal length (cm)</th>\n",
       "      <th>sepal width (cm)</th>\n",
       "      <th>petal length (cm)</th>\n",
       "      <th>petal width (cm)</th>\n",
       "    </tr>\n",
       "  </thead>\n",
       "  <tbody>\n",
       "    <tr>\n",
       "      <th>112</th>\n",
       "      <td>6.8</td>\n",
       "      <td>3.0</td>\n",
       "      <td>5.5</td>\n",
       "      <td>2.1</td>\n",
       "    </tr>\n",
       "    <tr>\n",
       "      <th>138</th>\n",
       "      <td>6.0</td>\n",
       "      <td>3.0</td>\n",
       "      <td>4.8</td>\n",
       "      <td>1.8</td>\n",
       "    </tr>\n",
       "    <tr>\n",
       "      <th>23</th>\n",
       "      <td>5.1</td>\n",
       "      <td>3.3</td>\n",
       "      <td>1.7</td>\n",
       "      <td>0.5</td>\n",
       "    </tr>\n",
       "    <tr>\n",
       "      <th>67</th>\n",
       "      <td>5.8</td>\n",
       "      <td>2.7</td>\n",
       "      <td>4.1</td>\n",
       "      <td>1.0</td>\n",
       "    </tr>\n",
       "    <tr>\n",
       "      <th>79</th>\n",
       "      <td>5.7</td>\n",
       "      <td>2.6</td>\n",
       "      <td>3.5</td>\n",
       "      <td>1.0</td>\n",
       "    </tr>\n",
       "  </tbody>\n",
       "</table>\n",
       "</div>"
      ],
      "text/plain": [
       "     sepal length (cm)  sepal width (cm)  petal length (cm)  petal width (cm)\n",
       "112                6.8               3.0                5.5               2.1\n",
       "138                6.0               3.0                4.8               1.8\n",
       "23                 5.1               3.3                1.7               0.5\n",
       "67                 5.8               2.7                4.1               1.0\n",
       "79                 5.7               2.6                3.5               1.0"
      ]
     },
     "execution_count": 244,
     "metadata": {
      "tags": []
     },
     "output_type": "execute_result"
    }
   ],
   "source": [
    "X_train.head()"
   ]
  },
  {
   "cell_type": "code",
   "execution_count": null,
   "metadata": {
    "colab": {
     "base_uri": "https://localhost:8080/",
     "height": 204
    },
    "id": "1oZD3B9JVWbm",
    "outputId": "9fdf9b03-e36e-47e3-eaf0-423bff681f1f"
   },
   "outputs": [
    {
     "data": {
      "text/html": [
       "<div>\n",
       "<style scoped>\n",
       "    .dataframe tbody tr th:only-of-type {\n",
       "        vertical-align: middle;\n",
       "    }\n",
       "\n",
       "    .dataframe tbody tr th {\n",
       "        vertical-align: top;\n",
       "    }\n",
       "\n",
       "    .dataframe thead th {\n",
       "        text-align: right;\n",
       "    }\n",
       "</style>\n",
       "<table border=\"1\" class=\"dataframe\">\n",
       "  <thead>\n",
       "    <tr style=\"text-align: right;\">\n",
       "      <th></th>\n",
       "      <th>sepal length (cm)</th>\n",
       "      <th>sepal width (cm)</th>\n",
       "      <th>petal length (cm)</th>\n",
       "      <th>petal width (cm)</th>\n",
       "    </tr>\n",
       "  </thead>\n",
       "  <tbody>\n",
       "    <tr>\n",
       "      <th>135</th>\n",
       "      <td>7.7</td>\n",
       "      <td>3.0</td>\n",
       "      <td>6.1</td>\n",
       "      <td>2.3</td>\n",
       "    </tr>\n",
       "    <tr>\n",
       "      <th>90</th>\n",
       "      <td>5.5</td>\n",
       "      <td>2.6</td>\n",
       "      <td>4.4</td>\n",
       "      <td>1.2</td>\n",
       "    </tr>\n",
       "    <tr>\n",
       "      <th>145</th>\n",
       "      <td>6.7</td>\n",
       "      <td>3.0</td>\n",
       "      <td>5.2</td>\n",
       "      <td>2.3</td>\n",
       "    </tr>\n",
       "    <tr>\n",
       "      <th>147</th>\n",
       "      <td>6.5</td>\n",
       "      <td>3.0</td>\n",
       "      <td>5.2</td>\n",
       "      <td>2.0</td>\n",
       "    </tr>\n",
       "    <tr>\n",
       "      <th>60</th>\n",
       "      <td>5.0</td>\n",
       "      <td>2.0</td>\n",
       "      <td>3.5</td>\n",
       "      <td>1.0</td>\n",
       "    </tr>\n",
       "  </tbody>\n",
       "</table>\n",
       "</div>"
      ],
      "text/plain": [
       "     sepal length (cm)  sepal width (cm)  petal length (cm)  petal width (cm)\n",
       "135                7.7               3.0                6.1               2.3\n",
       "90                 5.5               2.6                4.4               1.2\n",
       "145                6.7               3.0                5.2               2.3\n",
       "147                6.5               3.0                5.2               2.0\n",
       "60                 5.0               2.0                3.5               1.0"
      ]
     },
     "execution_count": 245,
     "metadata": {
      "tags": []
     },
     "output_type": "execute_result"
    }
   ],
   "source": [
    "X_test.head()"
   ]
  },
  {
   "cell_type": "markdown",
   "metadata": {
    "id": "aEuAtNo-VfFf"
   },
   "source": [
    "**Using the Decision Tree Regressor made from scratch to fit the training data and to make predictions on the test data**"
   ]
  },
  {
   "cell_type": "code",
   "execution_count": null,
   "metadata": {
    "id": "FkRull93VbrF"
   },
   "outputs": [],
   "source": [
    "model = DecisionTreeRegressor(min_samples_split=5, max_depth=5)\n",
    "model.fit(X_train, y_train)\n",
    "predictions = model.predict(np.array(X_test))"
   ]
  },
  {
   "cell_type": "code",
   "execution_count": null,
   "metadata": {
    "colab": {
     "base_uri": "https://localhost:8080/"
    },
    "id": "jh8KW0sxWGdG",
    "outputId": "0a21e502-201d-41ea-89c6-d1e95a8c1550"
   },
   "outputs": [
    {
     "name": "stdout",
     "output_type": "stream",
     "text": [
      "1.0\n"
     ]
    }
   ],
   "source": [
    "print(accuracy_score(y_test, predictions))"
   ]
  }
 ],
 "metadata": {
  "colab": {
   "collapsed_sections": [],
   "name": "19BCP043_Assgn_2_Decision_Tree.ipynb",
   "provenance": [],
   "toc_visible": true
  },
  "kernelspec": {
   "display_name": "Python 3",
   "language": "python",
   "name": "python3"
  },
  "language_info": {
   "codemirror_mode": {
    "name": "ipython",
    "version": 3
   },
   "file_extension": ".py",
   "mimetype": "text/x-python",
   "name": "python",
   "nbconvert_exporter": "python",
   "pygments_lexer": "ipython3",
   "version": "3.8.3"
  }
 },
 "nbformat": 4,
 "nbformat_minor": 1
}
