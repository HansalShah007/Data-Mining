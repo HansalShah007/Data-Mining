{
 "cells": [
  {
   "cell_type": "markdown",
   "metadata": {
    "id": "ZZ0-9t2u4Qdx"
   },
   "source": [
    "## **FP Growth Algorithm**  \n",
    "### **Author:** Hansal Shah "
   ]
  },
  {
   "cell_type": "markdown",
   "metadata": {
    "id": "r2GaWjXYCro6"
   },
   "source": [
    "# **Initializing the dataset**"
   ]
  },
  {
   "cell_type": "code",
   "execution_count": null,
   "metadata": {
    "colab": {
     "base_uri": "https://localhost:8080/"
    },
    "id": "ZJ_C2sd731dN",
    "outputId": "2ea210f6-3568-463b-9103-de359c011868"
   },
   "outputs": [
    {
     "data": {
      "text/plain": [
       "['I1', 'I2', 'I3', 'I4', 'I5']"
      ]
     },
     "execution_count": 106,
     "metadata": {},
     "output_type": "execute_result"
    }
   ],
   "source": [
    "transactions = {'T100':['I1','I2','I5'], 'T200':['I2','I4'], 'T300':['I2','I3'], \n",
    "                'T400':['I1','I2','I4'], 'T500':['I1','I3'], 'T600':['I2','I3'], \n",
    "                'T700':['I1','I3'], 'T800':['I1','I2','I3','I5'], \n",
    "                'T900':['I1','I2','I3']}\n",
    "\n",
    "# finding unique items\n",
    "unique = []\n",
    "\n",
    "for transaction in transactions:\n",
    "  for item in transactions[transaction]:\n",
    "    unique.append(item)\n",
    "\n",
    "unique = list(set(unique))\n",
    "unique.sort()\n",
    "unique"
   ]
  },
  {
   "cell_type": "markdown",
   "metadata": {
    "id": "igUXlaxTCuM3"
   },
   "source": [
    "# **Helper Functions and Classes**"
   ]
  },
  {
   "cell_type": "code",
   "execution_count": null,
   "metadata": {
    "id": "oUWThLGsCwix"
   },
   "outputs": [],
   "source": [
    "class Node:\n",
    "  def __init__ (self, item, frequency, parent):\n",
    "    self.item = item\n",
    "    self.frequency = frequency\n",
    "    self.parent = None\n",
    "    self.children = {}\n",
    "  \n",
    "  def increment_frequency(self):\n",
    "    self.frequency+=1\n",
    "\n",
    "  def display_tree(self, ind=1):\n",
    "    print ('  '*ind, self.item, ' ', self.frequency)\n",
    "    for child in self.children.values():\n",
    "        child.display_tree(ind+1)\n",
    "\n",
    "def count_frequency(item, transactions):\n",
    "  count = 0\n",
    "  for transaction in transactions:\n",
    "    if item in transactions[transaction]:\n",
    "      count+=1\n",
    "  return count\n",
    "\n",
    "def buildTree(root, transactions):\n",
    "  for transaction in list(transactions.values()):\n",
    "    temp_node = root\n",
    "    for item in transaction:\n",
    "      if item in temp_node.children:\n",
    "        temp_node = temp_node.children[item]\n",
    "        temp_node.increment_frequency()\n",
    "      else:\n",
    "        temp_node.children[item] = Node(item, 1, temp_node)\n",
    "        temp_node = temp_node.children[item]"
   ]
  },
  {
   "cell_type": "markdown",
   "metadata": {
    "id": "5gQyZ9qbC0lD"
   },
   "source": [
    "# **Preparing the transactions for building the tree**"
   ]
  },
  {
   "cell_type": "markdown",
   "metadata": {
    "id": "rmpkVeF0C3Qv"
   },
   "source": [
    "### **Taking the input of minimum support count**"
   ]
  },
  {
   "cell_type": "code",
   "execution_count": null,
   "metadata": {
    "colab": {
     "base_uri": "https://localhost:8080/"
    },
    "id": "BiqArskIC5zs",
    "outputId": "aae83ad8-6399-4376-fabc-b2297fb7c803"
   },
   "outputs": [
    {
     "name": "stdout",
     "output_type": "stream",
     "text": [
      "Enter the value of minimum support: 2\n"
     ]
    }
   ],
   "source": [
    "# Taking the minimum support count from the user\n",
    "\n",
    "min_sup = int(input(\"Enter the value of minimum support: \"))"
   ]
  },
  {
   "cell_type": "markdown",
   "metadata": {
    "id": "XQBF0v6YC8We"
   },
   "source": [
    "### **Removing all the items with support count less than that of minimum count**"
   ]
  },
  {
   "cell_type": "code",
   "execution_count": null,
   "metadata": {
    "colab": {
     "base_uri": "https://localhost:8080/"
    },
    "id": "KEUYLa-LC-R9",
    "outputId": "c513e5ab-0193-42ae-f22b-9604154e89fd"
   },
   "outputs": [
    {
     "data": {
      "text/plain": [
       "{'I1': 6, 'I2': 7, 'I3': 6, 'I4': 2, 'I5': 2}"
      ]
     },
     "execution_count": 112,
     "metadata": {},
     "output_type": "execute_result"
    }
   ],
   "source": [
    "# Finding the frequecny of each unique item\n",
    "item_freq = {}\n",
    "for item in unique:\n",
    "  item_freq[item] = count_frequency(item, transactions)\n",
    "\n",
    "# Removing the items with frequency lower than that of minimum support count\n",
    "items_to_remove = []\n",
    "for item in item_freq:\n",
    "  if item_freq[item]<min_sup:\n",
    "    items_to_remove.append(item)\n",
    "\n",
    "for item in items_to_remove:\n",
    "  del item_freq[item]\n",
    "\n",
    "item_freq"
   ]
  },
  {
   "cell_type": "markdown",
   "metadata": {
    "id": "smn1bdduDBhT"
   },
   "source": [
    "### **Arranging the items of transactions in order of their decreasing count**"
   ]
  },
  {
   "cell_type": "code",
   "execution_count": null,
   "metadata": {
    "colab": {
     "base_uri": "https://localhost:8080/"
    },
    "id": "cxxHl3hwDBDb",
    "outputId": "0d5822d1-2c8b-4c4d-c6a8-542e27b7aea9"
   },
   "outputs": [
    {
     "data": {
      "text/plain": [
       "['I2', 'I1', 'I3', 'I4', 'I5']"
      ]
     },
     "execution_count": 113,
     "metadata": {},
     "output_type": "execute_result"
    }
   ],
   "source": [
    "#sorting the items in descending order of their frequency\n",
    "unique = list(dict(sorted(item_freq.items(), key=lambda kv: kv[1], \n",
    "                          reverse=True)).keys())\n",
    "unique"
   ]
  },
  {
   "cell_type": "code",
   "execution_count": null,
   "metadata": {
    "colab": {
     "base_uri": "https://localhost:8080/"
    },
    "id": "wrHsJjh7DEzQ",
    "outputId": "5b366e1b-3f91-4af3-fa27-21d8477b70e1"
   },
   "outputs": [
    {
     "data": {
      "text/plain": [
       "{'T100': ['I2', 'I1', 'I5'],\n",
       " 'T200': ['I2', 'I4'],\n",
       " 'T300': ['I2', 'I3'],\n",
       " 'T400': ['I2', 'I1', 'I4'],\n",
       " 'T500': ['I1', 'I3'],\n",
       " 'T600': ['I2', 'I3'],\n",
       " 'T700': ['I1', 'I3'],\n",
       " 'T800': ['I2', 'I1', 'I3', 'I5'],\n",
       " 'T900': ['I2', 'I1', 'I3']}"
      ]
     },
     "execution_count": 114,
     "metadata": {},
     "output_type": "execute_result"
    }
   ],
   "source": [
    "#arranging the items in each transaction in decreasing order of their frequency\n",
    "for transaction in transactions:\n",
    "  transactions[transaction].sort(key=lambda x: unique.index(x))\n",
    "\n",
    "transactions"
   ]
  },
  {
   "cell_type": "markdown",
   "metadata": {
    "id": "Iiqfg4b-DG70"
   },
   "source": [
    "# **Generating the FP Tree**"
   ]
  },
  {
   "cell_type": "code",
   "execution_count": null,
   "metadata": {
    "id": "NgDO4ciQDHlt"
   },
   "outputs": [],
   "source": [
    "#Generating a tree\n",
    "root = Node(None, None, None)\n",
    "buildTree(root, transactions)"
   ]
  },
  {
   "cell_type": "code",
   "execution_count": null,
   "metadata": {
    "colab": {
     "base_uri": "https://localhost:8080/"
    },
    "id": "d401eIDKDKc4",
    "outputId": "5c2f321e-e38a-417e-f800-21afc6ad19d0"
   },
   "outputs": [
    {
     "name": "stdout",
     "output_type": "stream",
     "text": [
      "   None   None\n",
      "     I2   7\n",
      "       I1   4\n",
      "         I5   1\n",
      "         I4   1\n",
      "         I3   2\n",
      "           I5   1\n",
      "       I4   1\n",
      "       I3   2\n",
      "     I1   2\n",
      "       I3   2\n"
     ]
    }
   ],
   "source": [
    "#Displaying the tree\n",
    "root.display_tree()"
   ]
  },
  {
   "cell_type": "markdown",
   "metadata": {
    "id": "jTBcfciODMr9"
   },
   "source": [
    "# **Generating the Conditional Base Pattern for each item**"
   ]
  },
  {
   "cell_type": "markdown",
   "metadata": {
    "id": "MlOMP_HjQUO_"
   },
   "source": [
    "### **Helper Functions**"
   ]
  },
  {
   "cell_type": "code",
   "execution_count": null,
   "metadata": {
    "id": "InCznxKoDPA5"
   },
   "outputs": [],
   "source": [
    "# Generating the conditional pattern base\n",
    "\n",
    "conditional_pattern = {}\n",
    "frequencies = {}\n",
    "\n",
    "def generateConditionalBasePattern(root, item, path=[]):\n",
    "  if root.item==item:\n",
    "    if len(path)!=0:\n",
    "      if item in conditional_pattern:\n",
    "        conditional_pattern[item].append(path.copy())\n",
    "      else:\n",
    "        conditional_pattern[item] = [path.copy()]\n",
    "\n",
    "      if item in frequencies:\n",
    "        frequencies[item].append(root.frequency)\n",
    "      else:\n",
    "        frequencies[item] = [root.frequency]\n",
    "\n",
    "  else:\n",
    "    for child in root.children:\n",
    "      if root.item!=None:\n",
    "        path.append(root.item)\n",
    "        generateConditionalBasePattern(root.children[child], item, path)\n",
    "        path.pop()\n",
    "      else:\n",
    "        generateConditionalBasePattern(root.children[child], item, path)"
   ]
  },
  {
   "cell_type": "markdown",
   "metadata": {
    "id": "4yZb2DmaQZm2"
   },
   "source": [
    "### **Generating and printing conditional base patterns**"
   ]
  },
  {
   "cell_type": "code",
   "execution_count": null,
   "metadata": {
    "colab": {
     "base_uri": "https://localhost:8080/"
    },
    "id": "V-yL34BmQiEu",
    "outputId": "983b1b32-c0b7-49ac-fa70-739ba36bb428"
   },
   "outputs": [
    {
     "name": "stdout",
     "output_type": "stream",
     "text": [
      "The minimum support value is: 2\n",
      "\n",
      "Conditional Base Patterns\n",
      "\n",
      "I5  {['I2', 'I1']: 1, ['I2', 'I1', 'I3']: 1}\n",
      "I4  {['I2', 'I1']: 1, ['I2']: 1}\n",
      "I3  {['I2', 'I1']: 2, ['I2']: 2, ['I1']: 2}\n",
      "I1  {['I2']: 4}\n"
     ]
    }
   ],
   "source": [
    "#Forming the conditional base pattern for each item starting from the item with \n",
    "#least support count\n",
    "\n",
    "\n",
    "print('The minimum support value is: {}'.format(min_sup))\n",
    "print(end=\"\\n\")\n",
    "\n",
    "print(\"Conditional Base Patterns\\n\")\n",
    "for i in range(len(unique)-1, -1, -1):\n",
    "  generateConditionalBasePattern(root, unique[i])\n",
    "\n",
    "for item in conditional_pattern:\n",
    "  if len(conditional_pattern[item])!=0:\n",
    "    print(item+'  '+'{', end=\"\")\n",
    "    for j in range(len(conditional_pattern[item])):\n",
    "      if len(conditional_pattern[item][j])!=0:\n",
    "        print(conditional_pattern[item][j], end=\"\")\n",
    "        if j!=len(conditional_pattern[item])-1:\n",
    "          print(': '+str(frequencies[item][j])+', ',end=\"\")\n",
    "        else:\n",
    "          print(': '+str(frequencies[item][j]), end=\"\")\n",
    "    print('}')"
   ]
  },
  {
   "cell_type": "markdown",
   "metadata": {
    "id": "-r2ch2leQsRR"
   },
   "source": [
    "# **Generating conditional FP tree**"
   ]
  },
  {
   "cell_type": "markdown",
   "metadata": {
    "id": "NeXrddSdTTVL"
   },
   "source": [
    "### **Helper Functions**"
   ]
  },
  {
   "cell_type": "code",
   "execution_count": null,
   "metadata": {
    "id": "cXTxIJb3kden"
   },
   "outputs": [],
   "source": [
    "c_fp_tree = {}\n",
    "\n",
    "def conditional_fp_tree(conditional_pattern, frequencies, ordered_items):\n",
    "  for i in range(len(ordered_items)-1,-1,-1):\n",
    "    c_fp_tree[ordered_items[i]] = []\n",
    "\n",
    "    for item in ordered_items:\n",
    "      if ordered_items[i] in conditional_pattern:\n",
    "        temp_dict = {}\n",
    "        for j in range(len(conditional_pattern[ordered_items[i]])):\n",
    "          if len(conditional_pattern[ordered_items[i]][j])==0:\n",
    "            continue\n",
    "          else:\n",
    "            if conditional_pattern[ordered_items[i]][j][0]==item:\n",
    "\n",
    "              for each in conditional_pattern[ordered_items[i]][j]:\n",
    "                if each not in temp_dict:\n",
    "                  temp_dict[each] = frequencies[ordered_items[i]][j]\n",
    "                else:\n",
    "                  temp_dict[each] += frequencies[ordered_items[i]][j]\n",
    "\n",
    "        items_in_dict = list(temp_dict.keys()).copy()\n",
    "        for each in items_in_dict:\n",
    "          if temp_dict[each]<min_sup:\n",
    "            del temp_dict[each]\n",
    "\n",
    "        if len(temp_dict)!=0:\n",
    "          c_fp_tree[ordered_items[i]].append(temp_dict.copy())    "
   ]
  },
  {
   "cell_type": "markdown",
   "metadata": {
    "id": "ropaSMjCTZOD"
   },
   "source": [
    "### **Generating conditional FP tree**"
   ]
  },
  {
   "cell_type": "code",
   "execution_count": null,
   "metadata": {
    "id": "9kTchZc4cKc7"
   },
   "outputs": [],
   "source": [
    "conditional_fp_tree(conditional_pattern, frequencies, unique)"
   ]
  },
  {
   "cell_type": "markdown",
   "metadata": {
    "id": "qXPsUnbGThyJ"
   },
   "source": [
    "### **Printing the Conditional FP Tree**"
   ]
  },
  {
   "cell_type": "code",
   "execution_count": null,
   "metadata": {
    "colab": {
     "base_uri": "https://localhost:8080/"
    },
    "id": "k7e66sRHceKV",
    "outputId": "c8d4b936-6713-4ad2-92d3-2f55b1e29873"
   },
   "outputs": [
    {
     "name": "stdout",
     "output_type": "stream",
     "text": [
      "Conditional FP Tree\n",
      "\n",
      "I5   [{'I2': 2, 'I1': 2}]\n",
      "I4   [{'I2': 2}]\n",
      "I3   [{'I2': 4, 'I1': 2}, {'I1': 2}]\n",
      "I1   [{'I2': 4}]\n"
     ]
    }
   ],
   "source": [
    "print(\"Conditional FP Tree\\n\")\n",
    "for i in range(len(unique)-1, -1, -1):\n",
    "  if len(c_fp_tree[unique[i]])!=0:\n",
    "    print(unique[i], end='   ')\n",
    "    print(c_fp_tree[unique[i]],end=\"\\n\")"
   ]
  },
  {
   "cell_type": "code",
   "execution_count": null,
   "metadata": {
    "colab": {
     "base_uri": "https://localhost:8080/"
    },
    "id": "rNlG0-EdWDrW",
    "outputId": "017bed23-5749-450a-c1bb-8e55f1e1cf75"
   },
   "outputs": [
    {
     "data": {
      "text/plain": [
       "{'I1': [{'I2': 4}],\n",
       " 'I2': [],\n",
       " 'I3': [{'I1': 2, 'I2': 4}, {'I1': 2}],\n",
       " 'I4': [{'I2': 2}],\n",
       " 'I5': [{'I1': 2, 'I2': 2}]}"
      ]
     },
     "execution_count": 123,
     "metadata": {},
     "output_type": "execute_result"
    }
   ],
   "source": [
    "c_fp_tree #to be removed"
   ]
  },
  {
   "cell_type": "markdown",
   "metadata": {
    "id": "KvUAK8CYVger"
   },
   "source": [
    "# **Generating Frequent Patterns**"
   ]
  },
  {
   "cell_type": "markdown",
   "metadata": {
    "id": "oI8XTMCgPYLq"
   },
   "source": [
    "### **Helper Functions**"
   ]
  },
  {
   "cell_type": "code",
   "execution_count": null,
   "metadata": {
    "id": "Lo0uRLF-j9mN"
   },
   "outputs": [],
   "source": [
    "fpg_size_wise = {}\n",
    "frequent_patterns = {}\n",
    "pattern_frequencies = {}\n",
    "\n",
    "def find_frequent_patterns(subset_item, subset_frequencies, \n",
    "                           itemset, frequency, index, item):\n",
    "\n",
    "  if index==len(itemset): \n",
    "    if len(subset_item)!=0:\n",
    "      subset_item.append(item)\n",
    "      if item in frequent_patterns:\n",
    "\n",
    "        if subset_item in frequent_patterns[item]:\n",
    "          pattern_frequencies[item][frequent_patterns[item].index(subset_item)]+=min(subset_frequencies.copy())  \n",
    "        else:\n",
    "          frequent_patterns[item].append(subset_item.copy())\n",
    "          pattern_frequencies[item].append(min(subset_frequencies.copy()))\n",
    "      \n",
    "      else:\n",
    "        frequent_patterns[item] = [subset_item.copy()]\n",
    "        pattern_frequencies[item] = [min(subset_frequencies.copy())]\n",
    "\n",
    "      if len(subset_item) in fpg_size_wise:\n",
    "        if subset_item not in fpg_size_wise[len(subset_item)]:\n",
    "          fpg_size_wise[len(subset_item)].append(subset_item.copy())\n",
    "      else:\n",
    "        fpg_size_wise[len(subset_item)] = [subset_item.copy()]\n",
    "\n",
    "      subset_item.pop()\n",
    "    return\n",
    "\n",
    "  #excluding the element\n",
    "  find_frequent_patterns(subset_item, subset_frequencies, \n",
    "                         itemset, frequency, index+1, item)\n",
    "\n",
    "  #including the element\n",
    "  subset_item.append(itemset[index])\n",
    "  subset_frequencies.append(frequency[index])\n",
    "  find_frequent_patterns(subset_item, subset_frequencies, \n",
    "                         itemset, frequency, index+1, item)\n",
    "  subset_item.pop()\n",
    "  subset_frequencies.pop()\n",
    "\n",
    "def generate_frequent_pattenrs(conditional_fp_tree):\n",
    "  for item in conditional_fp_tree:\n",
    "    for each in conditional_fp_tree[item]:\n",
    "      find_frequent_patterns([],[],list(each.keys()),list(each.values()),0,item)"
   ]
  },
  {
   "cell_type": "markdown",
   "metadata": {
    "id": "MWtWzO1dPigH"
   },
   "source": [
    "### **Generating Frequent Patterns**"
   ]
  },
  {
   "cell_type": "code",
   "execution_count": null,
   "metadata": {
    "id": "EhWkMczmVoTi"
   },
   "outputs": [],
   "source": [
    "generate_frequent_pattenrs(c_fp_tree)"
   ]
  },
  {
   "cell_type": "code",
   "execution_count": null,
   "metadata": {
    "colab": {
     "base_uri": "https://localhost:8080/"
    },
    "id": "RJH6hMJF0a6L",
    "outputId": "a11bfaa5-ebfa-4da3-cfcb-d20d3118e7b6"
   },
   "outputs": [
    {
     "data": {
      "text/plain": [
       "{2: [['I1', 'I5'],\n",
       "  ['I2', 'I5'],\n",
       "  ['I2', 'I4'],\n",
       "  ['I1', 'I3'],\n",
       "  ['I2', 'I3'],\n",
       "  ['I2', 'I1']],\n",
       " 3: [['I2', 'I1', 'I5'], ['I2', 'I1', 'I3']]}"
      ]
     },
     "execution_count": 138,
     "metadata": {},
     "output_type": "execute_result"
    }
   ],
   "source": [
    "fpg_size_wise #to be removed"
   ]
  },
  {
   "cell_type": "code",
   "execution_count": null,
   "metadata": {
    "colab": {
     "base_uri": "https://localhost:8080/"
    },
    "id": "Tb_lzhBb04HN",
    "outputId": "a83c231b-2198-4656-e0bc-193ba663cf32"
   },
   "outputs": [
    {
     "data": {
      "text/plain": [
       "{'I1': [['I2', 'I1']],\n",
       " 'I3': [['I1', 'I3'], ['I2', 'I3'], ['I2', 'I1', 'I3']],\n",
       " 'I4': [['I2', 'I4']],\n",
       " 'I5': [['I1', 'I5'], ['I2', 'I5'], ['I2', 'I1', 'I5']]}"
      ]
     },
     "execution_count": 139,
     "metadata": {},
     "output_type": "execute_result"
    }
   ],
   "source": [
    "frequent_patterns #to be removed"
   ]
  },
  {
   "cell_type": "code",
   "execution_count": null,
   "metadata": {
    "colab": {
     "base_uri": "https://localhost:8080/"
    },
    "id": "yuDurmDZ1Z05",
    "outputId": "288b72ca-fa2c-44f1-d025-e75862c21038"
   },
   "outputs": [
    {
     "data": {
      "text/plain": [
       "{'I1': [4], 'I3': [4, 4, 2], 'I4': [2], 'I5': [2, 2, 2]}"
      ]
     },
     "execution_count": 140,
     "metadata": {},
     "output_type": "execute_result"
    }
   ],
   "source": [
    "pattern_frequencies #to be removed"
   ]
  },
  {
   "cell_type": "markdown",
   "metadata": {
    "id": "-eJ1PucHPo0F"
   },
   "source": [
    "### **Printing the frequent pattern along with their support count**"
   ]
  },
  {
   "cell_type": "code",
   "execution_count": null,
   "metadata": {
    "colab": {
     "base_uri": "https://localhost:8080/"
    },
    "id": "i4Ra7IPGIyYO",
    "outputId": "8bc15d0c-449f-4c58-d4a2-6d9f9a3d43fd"
   },
   "outputs": [
    {
     "name": "stdout",
     "output_type": "stream",
     "text": [
      "Frequent Patterns Generated\n",
      "\n",
      "I5   {['I1', 'I5']: 2, ['I2', 'I5']: 2, ['I2', 'I1', 'I5']: 2}\n",
      "I4   {['I2', 'I4']: 2}\n",
      "I3   {['I1', 'I3']: 4, ['I2', 'I3']: 4, ['I2', 'I1', 'I3']: 2}\n",
      "I1   {['I2', 'I1']: 4}\n"
     ]
    }
   ],
   "source": [
    "print(\"Frequent Patterns Generated\\n\")\n",
    "for i in range(len(unique)-1, -1,-1):\n",
    "  if unique[i] in frequent_patterns:\n",
    "    print(unique[i]+'   '+'{',end='')\n",
    "    for j in range(len(frequent_patterns[unique[i]])):\n",
    "      print(frequent_patterns[unique[i]][j],end='')\n",
    "      print(': ',end='')\n",
    "      if j!=len(frequent_patterns[unique[i]])-1:\n",
    "        print(pattern_frequencies[unique[i]][j],end=', ')\n",
    "      else:\n",
    "        print(pattern_frequencies[unique[i]][j],end='')\n",
    "    print('}',end='\\n')"
   ]
  },
  {
   "cell_type": "markdown",
   "metadata": {
    "id": "jobvNMQ1QCMN"
   },
   "source": [
    "# **Generating Association Rules**"
   ]
  },
  {
   "cell_type": "markdown",
   "metadata": {
    "id": "aCOTYRrlTvnL"
   },
   "source": [
    "### **Helper Functions**"
   ]
  },
  {
   "cell_type": "code",
   "execution_count": null,
   "metadata": {
    "id": "S98Qj88uMyqh"
   },
   "outputs": [],
   "source": [
    "powerset = []\n",
    "\n",
    "def generate_powerset(subset, index, itemset):\n",
    "\n",
    "  if(index==len(itemset)):\n",
    "    powerset.append(subset.copy())\n",
    "    return\n",
    "\n",
    "  #excluding the element\n",
    "  generate_powerset(subset, index+1, itemset)\n",
    "\n",
    "  #including the element\n",
    "  subset.append(itemset[index])\n",
    "  generate_powerset(subset, index+1, itemset)\n",
    "  subset.pop()\n",
    "\n",
    "def count_frequency_itemset(itemset, transactions):\n",
    "  count = 0\n",
    "  for transaction in transactions:\n",
    "    if set(itemset).issubset(set(transactions[transaction])):\n",
    "      count+=1\n",
    "  return count\n",
    "\n",
    "def generate_association_rules(l):\n",
    "  possible_association_rules = {}\n",
    "  final_association_rules = {}\n",
    "  for i in range(2,max(list(l.keys()))+1):\n",
    "    for itemset in l[i]:\n",
    "      powerset.clear()\n",
    "      generate_powerset([], 0, itemset)\n",
    "      powerset.pop(0) \n",
    "      powerset.pop(-1)\n",
    "\n",
    "      for s in powerset:\n",
    "        # print(s)\n",
    "        itemset_s = list(set(itemset)-set(s))\n",
    "        count_s = count_frequency_itemset(s, transactions)\n",
    "        count_itemset = count_frequency_itemset(itemset, transactions)\n",
    "\n",
    "        rule = '{}=>{}'.format(set(s),set(itemset_s))\n",
    "        confidence = (count_itemset/count_s)\n",
    "\n",
    "        possible_association_rules[rule]=confidence\n",
    "\n",
    "        if confidence>=min_conf:\n",
    "          final_association_rules[rule] = confidence\n",
    "\n",
    "  return possible_association_rules, final_association_rules\n",
    "\n",
    "def print_rules_values(frequent_itemsets, confidence_values):\n",
    "  print('Rule  |  Confidence')\n",
    "  for i in range(len(frequent_itemsets)):\n",
    "    print('{}   |   {}'.format(frequent_itemsets[i], confidence_values[i]))\n",
    "  print('\\n')\n",
    "\n",
    "def print_rules_percentage(frequent_itemsets, confidence_values):\n",
    "  print('Rule  |  Confidence(%)')\n",
    "  for i in range(len(frequent_itemsets)):\n",
    "    print('{}   |   {}'.format(frequent_itemsets[i], confidence_values[i]*100))\n",
    "  print('\\n')"
   ]
  },
  {
   "cell_type": "markdown",
   "metadata": {
    "id": "ouz6rmBHUAsF"
   },
   "source": [
    "### **Initializing the minimum confidence**"
   ]
  },
  {
   "cell_type": "code",
   "execution_count": null,
   "metadata": {
    "colab": {
     "base_uri": "https://localhost:8080/"
    },
    "id": "eukLHne2UF-3",
    "outputId": "8f1ae111-23fb-443e-f6bb-3bf5e9f02b1f"
   },
   "outputs": [
    {
     "name": "stdout",
     "output_type": "stream",
     "text": [
      "Enter the value of minimum confidence: 0.6\n"
     ]
    }
   ],
   "source": [
    "min_conf = float(input('Enter the value of minimum confidence: '))"
   ]
  },
  {
   "cell_type": "markdown",
   "metadata": {
    "id": "f-NWLwu6UN5h"
   },
   "source": [
    "### **Generating the association rules**"
   ]
  },
  {
   "cell_type": "code",
   "execution_count": null,
   "metadata": {
    "id": "Wr7OcWkwUKj8"
   },
   "outputs": [],
   "source": [
    "possible_association_rules, final_association_rules = generate_association_rules(fpg_size_wise)"
   ]
  },
  {
   "cell_type": "markdown",
   "metadata": {
    "id": "AnB3MhkRZXcq"
   },
   "source": [
    "### **Printing the minimum confidence and support**"
   ]
  },
  {
   "cell_type": "code",
   "execution_count": null,
   "metadata": {
    "colab": {
     "base_uri": "https://localhost:8080/"
    },
    "id": "IepOelqAZeF2",
    "outputId": "c3069b05-7663-4fa1-e780-8cad78fdb35e"
   },
   "outputs": [
    {
     "name": "stdout",
     "output_type": "stream",
     "text": [
      "The value of minimum confidence is: 0.6\n",
      "The value of minimum support is: 2\n"
     ]
    }
   ],
   "source": [
    "print(\"The value of minimum confidence is: {}\".format(min_conf))\n",
    "print(\"The value of minimum support is: {}\".format(min_sup))"
   ]
  },
  {
   "cell_type": "markdown",
   "metadata": {
    "id": "kwDQNCd6Uj4D"
   },
   "source": [
    "### **Printing the tentative set of rules and their confidence**"
   ]
  },
  {
   "cell_type": "code",
   "execution_count": null,
   "metadata": {
    "colab": {
     "base_uri": "https://localhost:8080/"
    },
    "id": "m51y1hrtUg6j",
    "outputId": "be437002-f20d-4337-ba30-03ba55bf6b49"
   },
   "outputs": [
    {
     "name": "stdout",
     "output_type": "stream",
     "text": [
      "Rule  |  Confidence\n",
      "{'I5'}=>{'I1'}   |   1.0\n",
      "{'I1'}=>{'I5'}   |   0.3333333333333333\n",
      "{'I5'}=>{'I2'}   |   1.0\n",
      "{'I2'}=>{'I5'}   |   0.2857142857142857\n",
      "{'I4'}=>{'I2'}   |   1.0\n",
      "{'I2'}=>{'I4'}   |   0.2857142857142857\n",
      "{'I3'}=>{'I1'}   |   0.6666666666666666\n",
      "{'I1'}=>{'I3'}   |   0.6666666666666666\n",
      "{'I3'}=>{'I2'}   |   0.6666666666666666\n",
      "{'I2'}=>{'I3'}   |   0.5714285714285714\n",
      "{'I1'}=>{'I2'}   |   0.6666666666666666\n",
      "{'I2'}=>{'I1'}   |   0.5714285714285714\n",
      "{'I5'}=>{'I2', 'I1'}   |   1.0\n",
      "{'I1'}=>{'I5', 'I2'}   |   0.3333333333333333\n",
      "{'I5', 'I1'}=>{'I2'}   |   1.0\n",
      "{'I2'}=>{'I5', 'I1'}   |   0.2857142857142857\n",
      "{'I5', 'I2'}=>{'I1'}   |   1.0\n",
      "{'I2', 'I1'}=>{'I5'}   |   0.5\n",
      "{'I3'}=>{'I2', 'I1'}   |   0.3333333333333333\n",
      "{'I1'}=>{'I3', 'I2'}   |   0.3333333333333333\n",
      "{'I3', 'I1'}=>{'I2'}   |   0.5\n",
      "{'I2'}=>{'I3', 'I1'}   |   0.2857142857142857\n",
      "{'I3', 'I2'}=>{'I1'}   |   0.5\n",
      "{'I2', 'I1'}=>{'I3'}   |   0.5\n",
      "\n",
      "\n"
     ]
    }
   ],
   "source": [
    "print_rules_values(list(possible_association_rules.keys()), list(possible_association_rules.values()))"
   ]
  },
  {
   "cell_type": "markdown",
   "metadata": {
    "id": "Iq8Ba0uuY7-M"
   },
   "source": [
    "### **Printing the final set of rules and their confidence (%)**"
   ]
  },
  {
   "cell_type": "code",
   "execution_count": null,
   "metadata": {
    "colab": {
     "base_uri": "https://localhost:8080/"
    },
    "id": "NsG2AzbRVF-b",
    "outputId": "baa85edb-2ed2-47b6-e335-a0b1013b1ccb"
   },
   "outputs": [
    {
     "name": "stdout",
     "output_type": "stream",
     "text": [
      "Rule  |  Confidence(%)\n",
      "{'I5'}=>{'I1'}   |   100.0\n",
      "{'I5'}=>{'I2'}   |   100.0\n",
      "{'I4'}=>{'I2'}   |   100.0\n",
      "{'I3'}=>{'I1'}   |   66.66666666666666\n",
      "{'I1'}=>{'I3'}   |   66.66666666666666\n",
      "{'I3'}=>{'I2'}   |   66.66666666666666\n",
      "{'I1'}=>{'I2'}   |   66.66666666666666\n",
      "{'I5'}=>{'I2', 'I1'}   |   100.0\n",
      "{'I5', 'I1'}=>{'I2'}   |   100.0\n",
      "{'I5', 'I2'}=>{'I1'}   |   100.0\n",
      "\n",
      "\n"
     ]
    }
   ],
   "source": [
    "print_rules_percentage(list(final_association_rules.keys()), list(final_association_rules.values()))"
   ]
  }
 ],
 "metadata": {
  "colab": {
   "collapsed_sections": [],
   "name": "19BCP043_Assgn_8_FP_Growth_2.ipynb",
   "provenance": []
  },
  "kernelspec": {
   "display_name": "Python 3",
   "language": "python",
   "name": "python3"
  },
  "language_info": {
   "codemirror_mode": {
    "name": "ipython",
    "version": 3
   },
   "file_extension": ".py",
   "mimetype": "text/x-python",
   "name": "python",
   "nbconvert_exporter": "python",
   "pygments_lexer": "ipython3",
   "version": "3.8.3"
  }
 },
 "nbformat": 4,
 "nbformat_minor": 1
}
