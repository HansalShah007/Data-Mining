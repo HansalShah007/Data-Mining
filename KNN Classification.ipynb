{
 "cells": [
  {
   "cell_type": "markdown",
   "metadata": {
    "id": "pHiO88Ef0PHY"
   },
   "source": [
    "## **KNN Classification Algorithm** \n",
    "### **Author:** Hansal Shah "
   ]
  },
  {
   "cell_type": "markdown",
   "metadata": {
    "id": "iS4h4OS2zZ5w"
   },
   "source": [
    "# **Importing all the required libraries**"
   ]
  },
  {
   "cell_type": "code",
   "execution_count": null,
   "metadata": {
    "id": "izG5GpDj0YcP"
   },
   "outputs": [],
   "source": [
    "from sklearn.datasets import load_iris\n",
    "import pandas as pd\n",
    "import numpy as np\n",
    "from sklearn.model_selection import train_test_split \n",
    "from sklearn.metrics import accuracy_score\n",
    "import matplotlib.pyplot as plt\n",
    "from matplotlib.colors import ListedColormap"
   ]
  },
  {
   "cell_type": "markdown",
   "metadata": {
    "id": "U-w7_y8d0RIm"
   },
   "source": [
    "# **Building K Neighbours Classifier from scratch**\n"
   ]
  },
  {
   "cell_type": "code",
   "execution_count": null,
   "metadata": {
    "id": "Of804Urb1lOH"
   },
   "outputs": [],
   "source": [
    "class KNeighboursClassifier:\n",
    "  def __init__ (self, k=3):\n",
    "    self.k = k\n",
    "  \n",
    "  def fit(self, X, y):\n",
    "    self.X_train = np.array(X)\n",
    "    self.y_train = np.array(y)\n",
    "\n",
    "  def predict(self, X):\n",
    "    X_test = np.array(X)\n",
    "    predictions = [self.closest_to(x) for x in X_test]\n",
    "    return pd.DataFrame(predictions)\n",
    "\n",
    "  def closest_to(self,x):  \n",
    "    distances = np.array([self.euclidean_distance(x, v) for v in self.X_train])\n",
    "    sorted_indices = np.argsort(distances)\n",
    "    k_nearest_indices = sorted_indices[:self.k]\n",
    "    k_nearest_labels = [self.y_train[i] for i in k_nearest_indices]\n",
    "    return max(k_nearest_labels, key=k_nearest_labels.count)\n",
    "\n",
    "  def euclidean_distance(self, x1, x2):\n",
    "    return np.sqrt(np.sum((x1-x2)**2))\n"
   ]
  },
  {
   "cell_type": "markdown",
   "metadata": {
    "id": "zLTcebiq5XYv"
   },
   "source": [
    "# **Making predictions using the Iris dataset**"
   ]
  },
  {
   "cell_type": "markdown",
   "metadata": {
    "id": "BA-7KRNu6Q-D"
   },
   "source": [
    "### ***Loading the dataset***"
   ]
  },
  {
   "cell_type": "code",
   "execution_count": null,
   "metadata": {
    "id": "In8F7I4S1Tx1"
   },
   "outputs": [],
   "source": [
    "iris = load_iris()\n",
    "X = pd.DataFrame(iris.data, columns=iris.feature_names)\n",
    "y = pd.DataFrame(iris.target)"
   ]
  },
  {
   "cell_type": "markdown",
   "metadata": {
    "id": "VqmbkTqn6a4Q"
   },
   "source": [
    "### ***Visualizing the dataset***"
   ]
  },
  {
   "cell_type": "code",
   "execution_count": null,
   "metadata": {
    "colab": {
     "base_uri": "https://localhost:8080/",
     "height": 268
    },
    "id": "CmHEB9mL6evX",
    "outputId": "1a875840-1d44-4cb3-b9cc-47d3c2d360f6"
   },
   "outputs": [
    {
     "data": {
      "image/png": "[encoded data removed]",
      "text/plain": [
       "<Figure size 432x288 with 1 Axes>"
      ]
     },
     "metadata": {
      "needs_background": "light"
     },
     "output_type": "display_data"
    }
   ],
   "source": [
    "colors = ListedColormap(['#FF0000', '#00FF00', '#0000FF'])\n",
    "\n",
    "'''\n",
    "Plotting the target variable in a two dimensional graph formed using the sepal \n",
    "length (cm) and sepal width (cm)\n",
    "'''\n",
    "plt.figure()\n",
    "plt.scatter(X.iloc[:,0], X.iloc[:,1], c=y, cmap=colors)\n",
    "plt.show()"
   ]
  },
  {
   "cell_type": "markdown",
   "metadata": {
    "id": "gZQi4ULW6U7n"
   },
   "source": [
    "### ***Splitting into training and testing dataset***\n",
    "\n",
    "1.   Training dataset (80%)\n",
    "2.   Testing dataset (20%)\n",
    "\n"
   ]
  },
  {
   "cell_type": "code",
   "execution_count": null,
   "metadata": {
    "id": "kSpYLrXa6PN8"
   },
   "outputs": [],
   "source": [
    "X_train, X_test, y_train, y_test = train_test_split(X, y, test_size=0.2, \n",
    "                                                    random_state=6)"
   ]
  },
  {
   "cell_type": "markdown",
   "metadata": {
    "id": "fJsBdGdyRMsL"
   },
   "source": [
    "### ***Using K Neighbours Classifier to make predictions***\n",
    "\n",
    "\n",
    "---\n",
    "\n",
    "1.   Value of k=3\n",
    "2.   Value of k=5\n",
    "\n",
    "\n",
    "\n"
   ]
  },
  {
   "cell_type": "code",
   "execution_count": null,
   "metadata": {
    "colab": {
     "base_uri": "https://localhost:8080/"
    },
    "id": "SSath4ecRMI5",
    "outputId": "6de511b6-fc2a-4b7e-d669-1adff624ee26"
   },
   "outputs": [
    {
     "name": "stdout",
     "output_type": "stream",
     "text": [
      "Accuracy (k=3): 0.9333333333333333\n"
     ]
    }
   ],
   "source": [
    "#k=3\n",
    "knn_model1 = KNeighboursClassifier(3)\n",
    "knn_model1.fit(X_train, y_train)\n",
    "predictions = knn_model1.predict(X_test)\n",
    "print(\"Accuracy (k=3): \"+str(accuracy_score(y_test, predictions)))"
   ]
  },
  {
   "cell_type": "code",
   "execution_count": null,
   "metadata": {
    "colab": {
     "base_uri": "https://localhost:8080/"
    },
    "id": "spHDIA6gKlJZ",
    "outputId": "275906e6-9a7b-4354-94e1-431050e66228"
   },
   "outputs": [
    {
     "name": "stdout",
     "output_type": "stream",
     "text": [
      "Accuracy (k=5): 0.9666666666666667\n"
     ]
    }
   ],
   "source": [
    "#k=5\n",
    "knn_model2 = KNeighboursClassifier(5)\n",
    "knn_model2.fit(X_train, y_train)\n",
    "predictions = knn_model2.predict(X_test)\n",
    "print(\"Accuracy (k=5): \"+str(accuracy_score(y_test, predictions)))"
   ]
  },
  {
   "cell_type": "code",
   "execution_count": null,
   "metadata": {
    "colab": {
     "base_uri": "https://localhost:8080/"
    },
    "id": "m91cpEgkR_JQ",
    "outputId": "b3236da7-1378-4b8a-d18c-97f62e70e4f6"
   },
   "outputs": [
    {
     "name": "stdout",
     "output_type": "stream",
     "text": [
      "Accuracy achieved using Decision Tree Regressor: 1.0\n"
     ]
    }
   ],
   "source": [
    "print(\"Accuracy achieved using Decision Tree Regressor: 1.0\")"
   ]
  },
  {
   "cell_type": "markdown",
   "metadata": {
    "id": "DzdBqeSyVDvy"
   },
   "source": [
    "### ***Comparing K Neigbours Classifiers and Decision Tree Classifier (Results)***"
   ]
  },
  {
   "cell_type": "code",
   "execution_count": null,
   "metadata": {
    "colab": {
     "base_uri": "https://localhost:8080/"
    },
    "id": "SCskYAylSDyQ",
    "outputId": "0cc8eacf-a419-40c4-f87d-ab41111e2e06"
   },
   "outputs": [
    {
     "name": "stdout",
     "output_type": "stream",
     "text": [
      "Accuracy of different models from lowest to highest\n",
      "1. KNN (k=3): 0.93\n",
      "2. KNN (k=5): 0.96\n",
      "3. Decision Tree: 1.0\n"
     ]
    }
   ],
   "source": [
    "print(\"Accuracy of different models from lowest to highest\")\n",
    "print(\"1. KNN (k=3): 0.93\")\n",
    "print(\"2. KNN (k=5): 0.96\")\n",
    "print(\"3. Decision Tree: 1.0\")"
   ]
  }
 ],
 "metadata": {
  "colab": {
   "collapsed_sections": [],
   "name": "19BCP043_Assgn_4_KNN_Classification.ipynb",
   "provenance": []
  },
  "kernelspec": {
   "display_name": "Python 3",
   "language": "python",
   "name": "python3"
  },
  "language_info": {
   "codemirror_mode": {
    "name": "ipython",
    "version": 3
   },
   "file_extension": ".py",
   "mimetype": "text/x-python",
   "name": "python",
   "nbconvert_exporter": "python",
   "pygments_lexer": "ipython3",
   "version": "3.8.3"
  }
 },
 "nbformat": 4,
 "nbformat_minor": 1
}
